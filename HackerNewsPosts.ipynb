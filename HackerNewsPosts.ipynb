{
 "cells": [
  {
   "cell_type": "markdown",
   "metadata": {
    "collapsed": true
   },
   "source": [
    "<h1>Hacker News popular posts analysis</h1>"
   ]
  },
  {
   "cell_type": "code",
   "execution_count": 1,
   "metadata": {
    "collapsed": false
   },
   "outputs": [
    {
     "name": "stdout",
     "output_type": "stream",
     "text": [
      "[['id', 'title', 'url', 'num_points', 'num_comments', 'author', 'created_at'], ['12224879', 'Interactive Dynamic Video', 'http://www.interactivedynamicvideo.com/', '386', '52', 'ne0phyte', '8/4/2016 11:52'], ['10975351', 'How to Use Open Source and Shut the Fuck Up at the Same Time', 'http://hueniverse.com/2016/01/26/how-to-use-open-source-and-shut-the-fuck-up-at-the-same-time/', '39', '10', 'josep2', '1/26/2016 19:30'], ['11964716', \"Florida DJs May Face Felony for April Fools' Water Joke\", 'http://www.thewire.com/entertainment/2013/04/florida-djs-april-fools-water-joke/63798/', '2', '1', 'vezycash', '6/23/2016 22:20'], ['11919867', 'Technology ventures: From Idea to Enterprise', 'https://www.amazon.com/Technology-Ventures-Enterprise-Thomas-Byers/dp/0073523429', '3', '1', 'hswarna', '6/17/2016 0:01']]\n"
     ]
    }
   ],
   "source": [
    "# open and read hacker news posts csv dataset\n",
    "from csv import reader\n",
    "opened_file = open('hacker_news.csv')\n",
    "read_file = reader(opened_file)\n",
    "hn = list(read_file)\n",
    "print(hn[0:5])"
   ]
  },
  {
   "cell_type": "code",
   "execution_count": 2,
   "metadata": {
    "collapsed": false
   },
   "outputs": [
    {
     "name": "stdout",
     "output_type": "stream",
     "text": [
      "['id', 'title', 'url', 'num_points', 'num_comments', 'author', 'created_at']\n",
      "[['12224879', 'Interactive Dynamic Video', 'http://www.interactivedynamicvideo.com/', '386', '52', 'ne0phyte', '8/4/2016 11:52'], ['10975351', 'How to Use Open Source and Shut the Fuck Up at the Same Time', 'http://hueniverse.com/2016/01/26/how-to-use-open-source-and-shut-the-fuck-up-at-the-same-time/', '39', '10', 'josep2', '1/26/2016 19:30'], ['11964716', \"Florida DJs May Face Felony for April Fools' Water Joke\", 'http://www.thewire.com/entertainment/2013/04/florida-djs-april-fools-water-joke/63798/', '2', '1', 'vezycash', '6/23/2016 22:20'], ['11919867', 'Technology ventures: From Idea to Enterprise', 'https://www.amazon.com/Technology-Ventures-Enterprise-Thomas-Byers/dp/0073523429', '3', '1', 'hswarna', '6/17/2016 0:01'], ['10301696', 'Note by Note: The Making of Steinway L1037 (2007)', 'http://www.nytimes.com/2007/11/07/movies/07stein.html?_r=0', '8', '2', 'walterbell', '9/30/2015 4:12']]\n"
     ]
    }
   ],
   "source": [
    "\n",
    "headers = hn[0]\n",
    "hn = hn[1:]\n",
    "print(headers)\n",
    "print(hn[0:5])\n"
   ]
  },
  {
   "cell_type": "code",
   "execution_count": 3,
   "metadata": {
    "collapsed": false
   },
   "outputs": [
    {
     "name": "stdout",
     "output_type": "stream",
     "text": [
      "1744\n",
      "1162\n",
      "17194\n"
     ]
    }
   ],
   "source": [
    "# split posts into ask, show and others\n",
    "ask_posts = []\n",
    "show_posts = []\n",
    "other_posts = []\n",
    "\n",
    "for row in hn:\n",
    "    title = row[1]\n",
    "    if title.lower().startswith('ask hn'):\n",
    "        ask_posts.append(row)\n",
    "    elif title.lower().startswith('show hn'):\n",
    "        show_posts.append(row)\n",
    "    else:\n",
    "        other_posts.append(row)\n",
    "\n",
    "print(len(ask_posts))\n",
    "print(len(show_posts))\n",
    "print(len(other_posts))      \n",
    "        "
   ]
  },
  {
   "cell_type": "code",
   "execution_count": 4,
   "metadata": {
    "collapsed": false
   },
   "outputs": [
    {
     "name": "stdout",
     "output_type": "stream",
     "text": [
      "average ask comments: 14.038417431192661\n",
      "average show comments: 10.31669535283993\n"
     ]
    }
   ],
   "source": [
    "# Average comments by posts\n",
    "total_ask_comments = 0\n",
    "total_show_comments = 0\n",
    "total_ask_comments = 0\n",
    "\n",
    "for row in ask_posts:\n",
    "    num_comments = int(row[4])\n",
    "    total_ask_comments += num_comments\n",
    "avg_ask_comments = total_ask_comments / len(ask_posts)\n",
    "    \n",
    "    \n",
    "for row in show_posts:\n",
    "    num_comments = int(row[4])\n",
    "    total_show_comments += num_comments\n",
    "avg_show_comments = total_show_comments / len(show_posts)\n",
    "\n",
    "print('average ask comments:', avg_ask_comments)\n",
    "print('average show comments:', avg_show_comments)  \n",
    "    \n",
    "    "
   ]
  },
  {
   "cell_type": "code",
   "execution_count": 21,
   "metadata": {
    "collapsed": false
   },
   "outputs": [
    {
     "name": "stdout",
     "output_type": "stream",
     "text": [
      "{'05': 46, '12': 73, '03': 54, '19': 110, '11': 58, '23': 68, '09': 45, '02': 58, '01': 60, '06': 44, '15': 116, '18': 109, '16': 108, '22': 71, '21': 109, '10': 59, '17': 100, '08': 48, '14': 107, '20': 80, '07': 34, '00': 55, '04': 47, '13': 85}\n",
      "{'05': 464, '12': 687, '03': 421, '19': 1188, '11': 641, '23': 543, '09': 251, '02': 1381, '01': 683, '06': 397, '15': 4477, '18': 1439, '16': 1814, '22': 479, '21': 1745, '10': 793, '17': 1146, '08': 492, '14': 1416, '20': 1722, '07': 267, '00': 447, '04': 337, '13': 1253}\n"
     ]
    }
   ],
   "source": [
    "# comments and posts by hour\n",
    "import datetime as dt\n",
    "result_list = []\n",
    "\n",
    "for row in ask_posts:\n",
    "    v_date = row[6]\n",
    "    v_comments = row[4]\n",
    "    result_list.append( [ v_date , v_comments ] )\n",
    "\n",
    "counts_by_hour =  {}\n",
    "comments_by_hour = {}\n",
    "\n",
    "for row in result_list:\n",
    "    v_date = dt.datetime.strptime(row[0], '%m/%d/%Y %H:%M')\n",
    "    v_hour = dt.datetime.strftime(v_date, '%H')\n",
    "    v_comments = int(row[1])\n",
    "    if v_hour in counts_by_hour:\n",
    "        counts_by_hour[v_hour] += 1\n",
    "        comments_by_hour[v_hour] += v_comments\n",
    "    else:\n",
    "        counts_by_hour[v_hour] = 1\n",
    "        comments_by_hour[v_hour] = v_comments\n",
    "\n",
    "print(counts_by_hour)\n",
    "print(comments_by_hour)     \n",
    "    \n"
   ]
  },
  {
   "cell_type": "code",
   "execution_count": 28,
   "metadata": {
    "collapsed": false
   },
   "outputs": [
    {
     "name": "stdout",
     "output_type": "stream",
     "text": [
      "[['05', 10.087], ['12', 9.411], ['03', 7.796], ['19', 10.8], ['11', 11.052], ['23', 7.985], ['09', 5.578], ['02', 23.81], ['01', 11.383], ['06', 9.023], ['15', 38.595], ['18', 13.202], ['16', 16.796], ['22', 6.746], ['21', 16.009], ['10', 13.441], ['17', 11.46], ['08', 10.25], ['14', 13.234], ['20', 21.525], ['07', 7.853], ['00', 8.127], ['04', 7.17], ['13', 14.741]]\n"
     ]
    }
   ],
   "source": [
    "# average comments by hour\n",
    "avg_by_hour = []\n",
    "for hour in counts_by_hour:\n",
    "    avg = round((comments_by_hour[hour] / counts_by_hour[hour]), 3)\n",
    "    avg_by_hour.append([hour, avg])\n",
    "\n",
    "print(avg_by_hour)    \n",
    "    "
   ]
  },
  {
   "cell_type": "code",
   "execution_count": 39,
   "metadata": {
    "collapsed": false
   },
   "outputs": [
    {
     "name": "stdout",
     "output_type": "stream",
     "text": [
      "[[10.087, '05'], [9.411, '12'], [7.796, '03'], [10.8, '19'], [11.052, '11'], [7.985, '23'], [5.578, '09'], [23.81, '02'], [11.383, '01'], [9.023, '06'], [38.595, '15'], [13.202, '18'], [16.796, '16'], [6.746, '22'], [16.009, '21'], [13.441, '10'], [11.46, '17'], [10.25, '08'], [13.234, '14'], [21.525, '20'], [7.853, '07'], [8.127, '00'], [7.17, '04'], [14.741, '13']]\n",
      "15:00: 38.59 average comments per post.\n",
      "02:00: 23.81 average comments per post.\n",
      "20:00: 21.52 average comments per post.\n",
      "16:00: 16.80 average comments per post.\n",
      "21:00: 16.01 average comments per post.\n"
     ]
    }
   ],
   "source": [
    "# print top 5 hours and average per post\n",
    "swap_avg_by_hour = []\n",
    "for hour in avg_by_hour:\n",
    "    swap_avg_by_hour.append([hour[1], hour[0]])\n",
    "    \n",
    "print(swap_avg_by_hour)    \n",
    "\n",
    "sorted_swap = sorted(swap_avg_by_hour, reverse=True)\n",
    "#print(sorted_swap)\n",
    "\n",
    "for s in sorted_swap[0:5]:\n",
    "    v_hour = dt.datetime.strptime(s[1], '%H')\n",
    "    v_hour = v_hour.strftime('%H:%M')\n",
    "    temp = '{hour}: {avg:.2f} average comments per post.'.format(hour=v_hour, avg=s[0])\n",
    "    print(temp)\n"
   ]
  }
 ],
 "metadata": {
  "kernelspec": {
   "display_name": "Python 3",
   "language": "python",
   "name": "python3"
  },
  "language_info": {
   "codemirror_mode": {
    "name": "ipython",
    "version": 3
   },
   "file_extension": ".py",
   "mimetype": "text/x-python",
   "name": "python",
   "nbconvert_exporter": "python",
   "pygments_lexer": "ipython3",
   "version": "3.4.3"
  }
 },
 "nbformat": 4,
 "nbformat_minor": 2
}
