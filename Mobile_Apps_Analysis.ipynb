{
 "cells": [
  {
   "cell_type": "markdown",
   "metadata": {},
   "source": [
    "# Free Mobile Apps Analysis\n",
    "Guided Project: Profitable App Profiles for the App Store and Google Play Markets      \n",
    "\n",
    "Our goal for this project is to analyze data to help our developers understand what type of apps are likely to attract more users. This means our revenue for any given app is mostly influenced by the number of users who use our app — the more users that see and engage with the ads, the better.    \n",
    "\n",
    "The main purpose for me (developer) is to improve my Python and Data Analysis skills and also use this project to start my portifolio.\n"
   ]
  },
  {
   "cell_type": "code",
   "execution_count": 3,
   "metadata": {
    "collapsed": false
   },
   "outputs": [],
   "source": [
    "# reading the Apple Store apps review file and storing on a data set (ds_apple)\n",
    "from csv import reader\n",
    "file_apple = open('AppleStore.csv')\n",
    "rd_apple = reader(file_apple)\n",
    "ds_apple = list(rd_apple)"
   ]
  },
  {
   "cell_type": "code",
   "execution_count": 4,
   "metadata": {
    "collapsed": false
   },
   "outputs": [],
   "source": [
    "# reading the Google Play apps review and storing on a data set (ds_apple)\n",
    "file_google = open('googleplaystore.csv')\n",
    "rd_google = reader(file_google)\n",
    "ds_google = list(rd_google)"
   ]
  },
  {
   "cell_type": "code",
   "execution_count": 5,
   "metadata": {
    "collapsed": false
   },
   "outputs": [],
   "source": [
    "# Function to display the rows in a better formating\n",
    "def explore_data(dataset, start, end, rows_and_columns=False):\n",
    "    dataset_slice = dataset[start:end]    \n",
    "    for row in dataset_slice:\n",
    "        print(row)\n",
    "        print('\\n') # adds a new (empty) line after each row\n",
    "\n",
    "    if rows_and_columns:\n",
    "        print('Number of rows:', len(dataset))\n",
    "        print('Number of columns:', len(dataset[0]))"
   ]
  },
  {
   "cell_type": "code",
   "execution_count": 6,
   "metadata": {
    "collapsed": false
   },
   "outputs": [
    {
     "name": "stdout",
     "output_type": "stream",
     "text": [
      "['App', 'Category', 'Rating', 'Reviews', 'Size', 'Installs', 'Type', 'Price', 'Content Rating', 'Genres', 'Last Updated', 'Current Ver', 'Android Ver']\n",
      "\n",
      "\n",
      "['Photo Editor & Candy Camera & Grid & ScrapBook', 'ART_AND_DESIGN', '4.1', '159', '19M', '10,000+', 'Free', '0', 'Everyone', 'Art & Design', 'January 7, 2018', '1.0.0', '4.0.3 and up']\n",
      "\n",
      "\n",
      "['Coloring book moana', 'ART_AND_DESIGN', '3.9', '967', '14M', '500,000+', 'Free', '0', 'Everyone', 'Art & Design;Pretend Play', 'January 15, 2018', '2.0.0', '4.0.3 and up']\n",
      "\n",
      "\n",
      "Number of rows: 10842\n",
      "Number of columns: 13\n"
     ]
    }
   ],
   "source": [
    "# displaying the first 3 rows from Google\n",
    "explore_data(ds_google, 0, 3, True)"
   ]
  },
  {
   "cell_type": "code",
   "execution_count": 7,
   "metadata": {
    "collapsed": false
   },
   "outputs": [
    {
     "name": "stdout",
     "output_type": "stream",
     "text": [
      "['id', 'track_name', 'size_bytes', 'currency', 'price', 'rating_count_tot', 'rating_count_ver', 'user_rating', 'user_rating_ver', 'ver', 'cont_rating', 'prime_genre', 'sup_devices.num', 'ipadSc_urls.num', 'lang.num', 'vpp_lic']\n",
      "\n",
      "\n",
      "['284882215', 'Facebook', '389879808', 'USD', '0.0', '2974676', '212', '3.5', '3.5', '95.0', '4+', 'Social Networking', '37', '1', '29', '1']\n",
      "\n",
      "\n",
      "['389801252', 'Instagram', '113954816', 'USD', '0.0', '2161558', '1289', '4.5', '4.0', '10.23', '12+', 'Photo & Video', '37', '0', '29', '1']\n",
      "\n",
      "\n",
      "Number of rows: 7198\n",
      "Number of columns: 16\n"
     ]
    }
   ],
   "source": [
    "# displaying the first 3 rows from Apple\n",
    "explore_data(ds_apple, 0, 3, True)"
   ]
  },
  {
   "cell_type": "markdown",
   "metadata": {
    "collapsed": false
   },
   "source": [
    "Google selected columns to be used in our analysis:\n",
    "    * App, Category, Rating, Reviews, Size, Installs, \n",
    "    * Type, Price, Content Rating, Genres, Last Update"
   ]
  },
  {
   "cell_type": "markdown",
   "metadata": {
    "collapsed": false
   },
   "source": [
    "Apple selected columns to be used in our analysis:\n",
    "    * track_name, size_bytes, price, rating_count_tot \n",
    "    * rating_count_ver, user_rating, cont_rating, prime_genre\n"
   ]
  },
  {
   "cell_type": "code",
   "execution_count": 8,
   "metadata": {
    "collapsed": false
   },
   "outputs": [
    {
     "name": "stdout",
     "output_type": "stream",
     "text": [
      "['Life Made WI-Fi Touchscreen Photo Frame', '1.9', '19', '3.0M', '1,000+', 'Free', '0', 'Everyone', '', 'February 11, 2018', '1.0.19', '4.0 and up']\n"
     ]
    }
   ],
   "source": [
    "# Checking the problem about the missing column, second column (category).\n",
    "# Problem detected in the kaggle forum thread: \n",
    "# https://www.kaggle.com/lava18/google-play-store-apps/discussion/66015\n",
    "print(ds_google[10473])"
   ]
  },
  {
   "cell_type": "code",
   "execution_count": 9,
   "metadata": {
    "collapsed": false
   },
   "outputs": [
    {
     "name": "stdout",
     "output_type": "stream",
     "text": [
      "['Life Made WI-Fi Touchscreen Photo Frame', '1.9', '19', '3.0M', '1,000+', 'Free', '0', 'Everyone', '', 'February 11, 2018', '1.0.19', '4.0 and up']\n",
      "10473\n"
     ]
    }
   ],
   "source": [
    "# function used to detect row with missing columns, comparing the lenght of the row with the header.\n",
    "for row in ds_google:\n",
    "    header_length = len(ds_google[0])\n",
    "    rowlength = len(row) \n",
    "    if rowlength != header_length:\n",
    "        print(row)\n",
    "        print(ds_google.index(row))"
   ]
  },
  {
   "cell_type": "code",
   "execution_count": 10,
   "metadata": {
    "collapsed": true
   },
   "outputs": [],
   "source": [
    "# removing the row with problem (another approach would be find the missing value)\n",
    "del ds_google[10473]"
   ]
  },
  {
   "cell_type": "code",
   "execution_count": 11,
   "metadata": {
    "collapsed": false
   },
   "outputs": [
    {
     "name": "stdout",
     "output_type": "stream",
     "text": [
      "['osmino Wi-Fi: free WiFi', 'TOOLS', '4.2', '134203', '4.1M', '10,000,000+', 'Free', '0', 'Everyone', 'Tools', 'August 7, 2018', '6.06.14', '4.4 and up']\n"
     ]
    }
   ],
   "source": [
    "# row deleted\n",
    "print(ds_google[10473])"
   ]
  },
  {
   "cell_type": "code",
   "execution_count": 12,
   "metadata": {
    "collapsed": true
   },
   "outputs": [],
   "source": [
    "# detect row missing columns, Apple\n",
    "for row in ds_apple:\n",
    "    header_length = len(ds_apple[0])\n",
    "    rowlength = len(row) \n",
    "    if rowlength != header_length:\n",
    "        print(row)\n",
    "        print(ds_apple.index(row))"
   ]
  },
  {
   "cell_type": "markdown",
   "metadata": {},
   "source": [
    "Row with missing columns was deleted on Google ds and we didn't find any row with problems on Apple ds."
   ]
  },
  {
   "cell_type": "code",
   "execution_count": 13,
   "metadata": {
    "collapsed": false
   },
   "outputs": [],
   "source": [
    "# checking duplicate rows (google apps with same names with duplicate reviews)\n",
    "def duplicate_apps(data, vendor='google'):\n",
    "    dup_apps = []\n",
    "    uni_apps = []\n",
    "    \n",
    "    if vendor == 'google':\n",
    "        app_col = 0\n",
    "    elif vendor == 'apple':\n",
    "        app_col = 1\n",
    "    else:  \n",
    "        print('Error, unknown vendor.')\n",
    "        return\n",
    "\n",
    "    for app in data:\n",
    "        name = app[app_col]\n",
    "        if name in uni_apps:\n",
    "            dup_apps.append(name)\n",
    "        else:\n",
    "            uni_apps.append(name)\n",
    "    \n",
    "    print('Duplicate apps count: ', len(dup_apps))\n",
    "    print('\\n')\n",
    "    print('# Example of duplicate apps:')\n",
    "    for x in dup_apps[:10]:\n",
    "        print(x)\n",
    "\n"
   ]
  },
  {
   "cell_type": "code",
   "execution_count": 14,
   "metadata": {
    "collapsed": false
   },
   "outputs": [
    {
     "name": "stdout",
     "output_type": "stream",
     "text": [
      "Duplicate apps count:  1181\n",
      "\n",
      "\n",
      "# Example of duplicate apps:\n",
      "Quick PDF Scanner + OCR FREE\n",
      "Box\n",
      "Google My Business\n",
      "ZOOM Cloud Meetings\n",
      "join.me - Simple Meetings\n",
      "Box\n",
      "Zenefits\n",
      "Google Ads\n",
      "Google My Business\n",
      "Slack\n"
     ]
    }
   ],
   "source": [
    "# Checking duplicate apps on ds_google\n",
    "duplicate_apps(ds_google)"
   ]
  },
  {
   "cell_type": "code",
   "execution_count": 15,
   "metadata": {
    "collapsed": true
   },
   "outputs": [],
   "source": [
    "def get_app_by_name(name, data, vendor='google'):\n",
    "    # return rows from apps list matching a app name\n",
    "    if vendor == 'google':\n",
    "        app_col = 0\n",
    "    elif vendor == 'apple':\n",
    "        app_col = 1\n",
    "    else:  \n",
    "        print('Error, unknown vendor.')\n",
    "        return\n",
    "    \n",
    "    for row in data:\n",
    "        app = row[app_col]\n",
    "        if name == app:\n",
    "            print(row)\n",
    "            "
   ]
  },
  {
   "cell_type": "code",
   "execution_count": 16,
   "metadata": {
    "collapsed": false
   },
   "outputs": [
    {
     "name": "stdout",
     "output_type": "stream",
     "text": [
      "['Slack', 'BUSINESS', '4.4', '51507', 'Varies with device', '5,000,000+', 'Free', '0', 'Everyone', 'Business', 'August 2, 2018', 'Varies with device', 'Varies with device']\n",
      "['Slack', 'BUSINESS', '4.4', '51507', 'Varies with device', '5,000,000+', 'Free', '0', 'Everyone', 'Business', 'August 2, 2018', 'Varies with device', 'Varies with device']\n",
      "['Slack', 'BUSINESS', '4.4', '51510', 'Varies with device', '5,000,000+', 'Free', '0', 'Everyone', 'Business', 'August 2, 2018', 'Varies with device', 'Varies with device']\n"
     ]
    }
   ],
   "source": [
    "get_app_by_name('Slack', ds_google, 'google')"
   ]
  },
  {
   "cell_type": "markdown",
   "metadata": {},
   "source": [
    "We can see in duplicate app above, that the 4th column is different, is the number of ratings count.\n",
    "We'll consider the max rating_count value as the most updated row, so we can remove the other rows."
   ]
  },
  {
   "cell_type": "code",
   "execution_count": 17,
   "metadata": {
    "collapsed": false
   },
   "outputs": [
    {
     "name": "stdout",
     "output_type": "stream",
     "text": [
      "9659\n"
     ]
    }
   ],
   "source": [
    "# storing the max reviews number for each app in a dictionary\n",
    "reviews_max = {}\n",
    "for row in ds_google[1:]:\n",
    "    name = row[0]\n",
    "    n_reviews = float(row[3])\n",
    "    if (name in reviews_max and reviews_max[name] < n_reviews) or not(name in reviews_max):  \n",
    "        reviews_max[name] = n_reviews\n",
    "\n",
    "print(len(reviews_max))\n",
    "\n",
    "    "
   ]
  },
  {
   "cell_type": "markdown",
   "metadata": {},
   "source": [
    "For each app from Google, it will check if is the app row has the max num of reviews.\n",
    "If is the max, this is the most updated row for the app, it will be added to a clean apps list, without duplicates"
   ]
  },
  {
   "cell_type": "code",
   "execution_count": 18,
   "metadata": {
    "collapsed": false
   },
   "outputs": [],
   "source": [
    "# for each app check if is the row with the max num of reviews and add to a clean list, without duplicate\n",
    "google_clean = []\n",
    "already_added = []\n",
    "for row in ds_google[1:]:\n",
    "    name = row[0]\n",
    "    n_reviews = float(row[3])\n",
    "    if n_reviews == reviews_max[name] and not(name in already_added):\n",
    "        google_clean.append(row)\n",
    "        already_added.append(name)\n",
    "    "
   ]
  },
  {
   "cell_type": "code",
   "execution_count": 19,
   "metadata": {
    "collapsed": false
   },
   "outputs": [
    {
     "name": "stdout",
     "output_type": "stream",
     "text": [
      "['Photo Editor & Candy Camera & Grid & ScrapBook', 'ART_AND_DESIGN', '4.1', '159', '19M', '10,000+', 'Free', '0', 'Everyone', 'Art & Design', 'January 7, 2018', '1.0.0', '4.0.3 and up']\n",
      "\n",
      "\n",
      "['U Launcher Lite – FREE Live Cool Themes, Hide Apps', 'ART_AND_DESIGN', '4.7', '87510', '8.7M', '5,000,000+', 'Free', '0', 'Everyone', 'Art & Design', 'August 1, 2018', '1.2.4', '4.0.3 and up']\n",
      "\n",
      "\n",
      "['Sketch - Draw & Paint', 'ART_AND_DESIGN', '4.5', '215644', '25M', '50,000,000+', 'Free', '0', 'Teen', 'Art & Design', 'June 8, 2018', 'Varies with device', '4.2 and up']\n",
      "\n",
      "\n",
      "Number of rows: 9659\n",
      "Number of columns: 13\n"
     ]
    }
   ],
   "source": [
    "# Checking the clean list from google apps:\n",
    "explore_data(google_clean, 0, 3, True)        \n"
   ]
  },
  {
   "cell_type": "code",
   "execution_count": 20,
   "metadata": {
    "collapsed": false
   },
   "outputs": [
    {
     "name": "stdout",
     "output_type": "stream",
     "text": [
      "Duplicate apps count:  2\n",
      "\n",
      "\n",
      "# Example of duplicate apps:\n",
      "Mannequin Challenge\n",
      "VR Roller Coaster\n"
     ]
    }
   ],
   "source": [
    "# Checking duplicate apps on ds_apple\n",
    "duplicate_apps(ds_apple, 'apple')"
   ]
  },
  {
   "cell_type": "code",
   "execution_count": 21,
   "metadata": {
    "collapsed": false
   },
   "outputs": [
    {
     "name": "stdout",
     "output_type": "stream",
     "text": [
      "['1173990889', 'Mannequin Challenge', '109705216', 'USD', '0.0', '668', '87', '3.0', '3.0', '1.4', '9+', 'Games', '37', '4', '1', '1']\n",
      "['1178454060', 'Mannequin Challenge', '59572224', 'USD', '0.0', '105', '58', '4.0', '4.5', '1.0.1', '4+', 'Games', '38', '5', '1', '1']\n"
     ]
    }
   ],
   "source": [
    "get_app_by_name('Mannequin Challenge', ds_apple, 'apple')"
   ]
  },
  {
   "cell_type": "code",
   "execution_count": 22,
   "metadata": {
    "collapsed": false
   },
   "outputs": [
    {
     "name": "stdout",
     "output_type": "stream",
     "text": [
      "7195\n",
      "7198\n"
     ]
    }
   ],
   "source": [
    "# Apple - storing the max reviews number for each app in a dictionary\n",
    "reviews_max = {}\n",
    "for row in ds_apple[1:]:\n",
    "    name = row[1]\n",
    "    n_reviews = float(row[5])\n",
    "    if (name in reviews_max and reviews_max[name] < n_reviews) or not(name in reviews_max):  \n",
    "        reviews_max[name] = n_reviews\n",
    "\n",
    "print(len(reviews_max))\n",
    "print(len(ds_apple))"
   ]
  },
  {
   "cell_type": "code",
   "execution_count": 23,
   "metadata": {
    "collapsed": true
   },
   "outputs": [],
   "source": [
    "# Apple - for each app check if is the row with the max num of reviews and add to a clean list, without duplicate\n",
    "apple_clean = []\n",
    "already_added = []\n",
    "for row in ds_apple[1:]:\n",
    "    name = row[1]\n",
    "    n_reviews = float(row[5])\n",
    "    if n_reviews == reviews_max[name] and not(name in already_added):\n",
    "        apple_clean.append(row)\n",
    "        already_added.append(name)"
   ]
  },
  {
   "cell_type": "code",
   "execution_count": 24,
   "metadata": {
    "collapsed": false
   },
   "outputs": [
    {
     "name": "stdout",
     "output_type": "stream",
     "text": [
      "Duplicate apps count:  0\n",
      "\n",
      "\n",
      "# Example of duplicate apps:\n",
      "7198\n",
      "7195\n"
     ]
    }
   ],
   "source": [
    "# apple_clean list contains only unique apps now\n",
    "duplicate_apps(apple_clean, 'apple')\n",
    "print(len(ds_apple))\n",
    "print(len(apple_clean))"
   ]
  },
  {
   "cell_type": "markdown",
   "metadata": {},
   "source": [
    "Until now, we removed the duplicated apps entries for Apple and Google."
   ]
  },
  {
   "cell_type": "markdown",
   "metadata": {},
   "source": [
    "Now we are going to check non-english chars in the apps name"
   ]
  },
  {
   "cell_type": "code",
   "execution_count": 25,
   "metadata": {
    "collapsed": true
   },
   "outputs": [],
   "source": [
    "# if the string has a character higher than ord (127), is not english char, then return false, otherwise is true\n",
    "def is_english(p_string):\n",
    "    no_eng_count = 0\n",
    "    for c in p_string:\n",
    "        if ord(c) > 127:\n",
    "            no_eng_count += 1\n",
    "        if no_eng_count > 3:\n",
    "            return False\n",
    "    return True    "
   ]
  },
  {
   "cell_type": "code",
   "execution_count": 26,
   "metadata": {
    "collapsed": false
   },
   "outputs": [
    {
     "name": "stdout",
     "output_type": "stream",
     "text": [
      "True\n",
      "False\n",
      "True\n",
      "True\n",
      "False\n"
     ]
    }
   ],
   "source": [
    "# Testing function no english chars\n",
    "print(is_english('Instagram'))\n",
    "print(is_english('爱奇艺PPS -《欢乐颂2》电视剧热播'))\n",
    "print(is_english('Docs To Go™ Free Office Suite'))\n",
    "print(is_english('Instachat 😜'))\n",
    "print(is_english('Instachat 😜😜😜😜😜'))"
   ]
  },
  {
   "cell_type": "code",
   "execution_count": 27,
   "metadata": {
    "collapsed": true
   },
   "outputs": [],
   "source": [
    "# create new data set for google apps, english apps name only\n",
    "google_english = []\n",
    "for row in google_clean:\n",
    "    if is_english(row[0]):\n",
    "        google_english.append(row)\n",
    "            "
   ]
  },
  {
   "cell_type": "code",
   "execution_count": 28,
   "metadata": {
    "collapsed": false
   },
   "outputs": [
    {
     "name": "stdout",
     "output_type": "stream",
     "text": [
      "google clean rows:  9659\n",
      "google english rows:  9614\n"
     ]
    }
   ],
   "source": [
    "print('google clean rows: ', len(google_clean))\n",
    "print('google english rows: ', len(google_english))"
   ]
  },
  {
   "cell_type": "markdown",
   "metadata": {},
   "source": [
    "We have 9614 from 9659 Google apps remaining with English name"
   ]
  },
  {
   "cell_type": "code",
   "execution_count": 29,
   "metadata": {
    "collapsed": true
   },
   "outputs": [],
   "source": [
    "# Checking Apple apps (english chars)\n",
    "# create new data set for apple apps, english apps name only\n",
    "apple_english = []\n",
    "for row in apple_clean:\n",
    "    if is_english(row[1]):\n",
    "        apple_english.append(row)"
   ]
  },
  {
   "cell_type": "code",
   "execution_count": 30,
   "metadata": {
    "collapsed": false
   },
   "outputs": [
    {
     "name": "stdout",
     "output_type": "stream",
     "text": [
      "Lenght apple_clean:  7195\n",
      "lenght apple english:  6181\n"
     ]
    }
   ],
   "source": [
    "print('Lenght apple_clean: ', len(apple_clean))\n",
    "print('lenght apple english: ', len(apple_english))"
   ]
  },
  {
   "cell_type": "markdown",
   "metadata": {},
   "source": [
    "We have 6181 from 7195 Apples apps remaining with English name"
   ]
  },
  {
   "cell_type": "markdown",
   "metadata": {},
   "source": [
    "Getting only free apps"
   ]
  },
  {
   "cell_type": "code",
   "execution_count": 31,
   "metadata": {
    "collapsed": true
   },
   "outputs": [],
   "source": [
    "# new list with only free google apps\n",
    "google_free = []\n",
    "for row in google_english:\n",
    "    if row[6] == 'Free' or row[6] == 'free':\n",
    "        google_free.append(row)"
   ]
  },
  {
   "cell_type": "code",
   "execution_count": 32,
   "metadata": {
    "collapsed": false
   },
   "outputs": [
    {
     "name": "stdout",
     "output_type": "stream",
     "text": [
      "9614\n",
      "8863\n"
     ]
    }
   ],
   "source": [
    "print(len(google_english))\n",
    "print(len(google_free))"
   ]
  },
  {
   "cell_type": "markdown",
   "metadata": {},
   "source": [
    "From 9614 Google apps we have 8863 free apps remaining"
   ]
  },
  {
   "cell_type": "code",
   "execution_count": 33,
   "metadata": {
    "collapsed": true
   },
   "outputs": [],
   "source": [
    "# list for only free Apple apps\n",
    "apple_free = []\n",
    "for row in apple_english:\n",
    "    if row[4] == '0.0':\n",
    "        apple_free.append(row)"
   ]
  },
  {
   "cell_type": "code",
   "execution_count": 34,
   "metadata": {
    "collapsed": false
   },
   "outputs": [
    {
     "name": "stdout",
     "output_type": "stream",
     "text": [
      "6181\n",
      "3220\n"
     ]
    }
   ],
   "source": [
    "print(len(apple_english))\n",
    "print(len(apple_free))"
   ]
  },
  {
   "cell_type": "markdown",
   "metadata": {},
   "source": [
    "For Apple, from 6181 apps we have 3220 free apps remaining"
   ]
  },
  {
   "cell_type": "markdown",
   "metadata": {},
   "source": [
    "Because our end goal is to add the app on both Google Play and the App Store, we need to find app profiles that are successful on both markets. For instance, a profile that works well for both markets might be a productivity app that makes use of gamification.\n",
    "\n"
   ]
  },
  {
   "cell_type": "code",
   "execution_count": 35,
   "metadata": {
    "collapsed": false
   },
   "outputs": [
    {
     "name": "stdout",
     "output_type": "stream",
     "text": [
      "WEATHER 71\n",
      "COMMUNICATION 287\n",
      "SPORTS 301\n",
      "FINANCE 328\n",
      "AUTO_AND_VEHICLES 82\n",
      "PRODUCTIVITY 345\n",
      "VIDEO_PLAYERS 159\n",
      "SOCIAL 236\n",
      "ART_AND_DESIGN 57\n",
      "BUSINESS 407\n",
      "PARENTING 58\n",
      "LIBRARIES_AND_DEMO 83\n",
      "PERSONALIZATION 294\n",
      "BOOKS_AND_REFERENCE 190\n",
      "SHOPPING 199\n",
      "NEWS_AND_MAGAZINES 248\n",
      "TOOLS 750\n",
      "FOOD_AND_DRINK 110\n",
      "PHOTOGRAPHY 261\n",
      "MAPS_AND_NAVIGATION 124\n",
      "FAMILY 1675\n",
      "TRAVEL_AND_LOCAL 207\n",
      "HOUSE_AND_HOME 73\n",
      "EDUCATION 103\n",
      "DATING 165\n",
      "ENTERTAINMENT 85\n",
      "BEAUTY 53\n",
      "HEALTH_AND_FITNESS 273\n",
      "GAME 862\n",
      "COMICS 55\n",
      "LIFESTYLE 346\n",
      "MEDICAL 313\n",
      "EVENTS 63\n"
     ]
    }
   ],
   "source": [
    "# checking amount of apps per category in Googl\n",
    "freq_google_category = {}\n",
    "\n",
    "for row in google_free:\n",
    "    cat = row[1]\n",
    "    if cat in freq_google_category:\n",
    "        freq_google_category[cat] += 1\n",
    "    else:\n",
    "        freq_google_category[cat] = 1\n",
    "\n",
    "for i in freq_google_category:\n",
    "    print(i, freq_google_category[i])    \n",
    "    \n",
    "    "
   ]
  },
  {
   "cell_type": "code",
   "execution_count": 36,
   "metadata": {
    "collapsed": true
   },
   "outputs": [],
   "source": [
    "# return a frequency table, given a dataset and column index\n",
    "def freq_table(dataset, index):\n",
    "    freq_table = {}\n",
    "\n",
    "    for row in dataset:\n",
    "        col = row[index]\n",
    "        if col in freq_table:\n",
    "            freq_table[col] += 1\n",
    "        else:\n",
    "            freq_table[col] = 1\n",
    "            \n",
    "    return freq_table\n"
   ]
  },
  {
   "cell_type": "code",
   "execution_count": 37,
   "metadata": {
    "collapsed": true
   },
   "outputs": [],
   "source": [
    "def display_table(dataset, index):\n",
    "    table = freq_table(dataset, index)\n",
    "    table_display = []\n",
    "    for key in table:\n",
    "        key_val_as_tuple = (table[key], key)\n",
    "        table_display.append(key_val_as_tuple)\n",
    "\n",
    "    table_sorted = sorted(table_display, reverse = True)\n",
    "    for entry in table_sorted:\n",
    "        print(entry[1], ':', entry[0])"
   ]
  },
  {
   "cell_type": "code",
   "execution_count": 38,
   "metadata": {
    "collapsed": false
   },
   "outputs": [
    {
     "name": "stdout",
     "output_type": "stream",
     "text": [
      "FAMILY : 1675\n",
      "GAME : 862\n",
      "TOOLS : 750\n",
      "BUSINESS : 407\n",
      "LIFESTYLE : 346\n",
      "PRODUCTIVITY : 345\n",
      "FINANCE : 328\n",
      "MEDICAL : 313\n",
      "SPORTS : 301\n",
      "PERSONALIZATION : 294\n",
      "COMMUNICATION : 287\n",
      "HEALTH_AND_FITNESS : 273\n",
      "PHOTOGRAPHY : 261\n",
      "NEWS_AND_MAGAZINES : 248\n",
      "SOCIAL : 236\n",
      "TRAVEL_AND_LOCAL : 207\n",
      "SHOPPING : 199\n",
      "BOOKS_AND_REFERENCE : 190\n",
      "DATING : 165\n",
      "VIDEO_PLAYERS : 159\n",
      "MAPS_AND_NAVIGATION : 124\n",
      "FOOD_AND_DRINK : 110\n",
      "EDUCATION : 103\n",
      "ENTERTAINMENT : 85\n",
      "LIBRARIES_AND_DEMO : 83\n",
      "AUTO_AND_VEHICLES : 82\n",
      "HOUSE_AND_HOME : 73\n",
      "WEATHER : 71\n",
      "EVENTS : 63\n",
      "PARENTING : 58\n",
      "ART_AND_DESIGN : 57\n",
      "COMICS : 55\n",
      "BEAUTY : 53\n"
     ]
    }
   ],
   "source": [
    "# google category frequency table\n",
    "display_table(google_free, 1)"
   ]
  },
  {
   "cell_type": "code",
   "execution_count": 39,
   "metadata": {
    "collapsed": false
   },
   "outputs": [
    {
     "name": "stdout",
     "output_type": "stream",
     "text": [
      "Games : 1872\n",
      "Entertainment : 254\n",
      "Photo & Video : 160\n",
      "Education : 118\n",
      "Social Networking : 106\n",
      "Shopping : 84\n",
      "Utilities : 81\n",
      "Sports : 69\n",
      "Music : 66\n",
      "Health & Fitness : 65\n",
      "Productivity : 56\n",
      "Lifestyle : 51\n",
      "News : 43\n",
      "Travel : 40\n",
      "Finance : 36\n",
      "Weather : 28\n",
      "Food & Drink : 26\n",
      "Reference : 18\n",
      "Business : 17\n",
      "Book : 14\n",
      "Navigation : 6\n",
      "Medical : 6\n",
      "Catalogs : 4\n"
     ]
    }
   ],
   "source": [
    "# Apple prime_genre frequency table\n",
    "display_table(apple_free, 11)"
   ]
  },
  {
   "cell_type": "code",
   "execution_count": 40,
   "metadata": {
    "collapsed": false
   },
   "outputs": [
    {
     "name": "stdout",
     "output_type": "stream",
     "text": [
      "Tools : 749\n",
      "Entertainment : 538\n",
      "Education : 474\n",
      "Business : 407\n",
      "Productivity : 345\n",
      "Lifestyle : 345\n",
      "Finance : 328\n",
      "Medical : 313\n",
      "Sports : 307\n",
      "Personalization : 294\n",
      "Communication : 287\n",
      "Action : 275\n",
      "Health & Fitness : 273\n",
      "Photography : 261\n",
      "News & Magazines : 248\n",
      "Social : 236\n",
      "Travel & Local : 206\n",
      "Shopping : 199\n",
      "Books & Reference : 190\n",
      "Simulation : 181\n",
      "Dating : 165\n",
      "Arcade : 164\n",
      "Video Players & Editors : 157\n",
      "Casual : 156\n",
      "Maps & Navigation : 124\n",
      "Food & Drink : 110\n",
      "Puzzle : 100\n",
      "Racing : 88\n",
      "Role Playing : 83\n",
      "Libraries & Demo : 83\n",
      "Auto & Vehicles : 82\n",
      "Strategy : 80\n",
      "House & Home : 73\n",
      "Weather : 71\n",
      "Events : 63\n",
      "Adventure : 60\n",
      "Comics : 54\n",
      "Beauty : 53\n",
      "Art & Design : 53\n",
      "Parenting : 44\n",
      "Card : 40\n",
      "Casino : 38\n",
      "Trivia : 37\n",
      "Educational;Education : 35\n",
      "Board : 34\n",
      "Educational : 33\n",
      "Education;Education : 30\n",
      "Word : 23\n",
      "Casual;Pretend Play : 21\n",
      "Music : 18\n",
      "Racing;Action & Adventure : 15\n",
      "Puzzle;Brain Games : 15\n",
      "Entertainment;Music & Video : 15\n",
      "Casual;Brain Games : 12\n",
      "Casual;Action & Adventure : 12\n",
      "Arcade;Action & Adventure : 11\n",
      "Action;Action & Adventure : 9\n",
      "Educational;Pretend Play : 8\n",
      "Simulation;Action & Adventure : 7\n",
      "Parenting;Education : 7\n",
      "Entertainment;Brain Games : 7\n",
      "Board;Brain Games : 7\n",
      "Parenting;Music & Video : 6\n",
      "Educational;Brain Games : 6\n",
      "Casual;Creativity : 6\n",
      "Art & Design;Creativity : 6\n",
      "Education;Pretend Play : 5\n",
      "Role Playing;Pretend Play : 4\n",
      "Education;Creativity : 4\n",
      "Role Playing;Action & Adventure : 3\n",
      "Puzzle;Action & Adventure : 3\n",
      "Entertainment;Creativity : 3\n",
      "Entertainment;Action & Adventure : 3\n",
      "Educational;Creativity : 3\n",
      "Educational;Action & Adventure : 3\n",
      "Education;Music & Video : 3\n",
      "Education;Brain Games : 3\n",
      "Education;Action & Adventure : 3\n",
      "Adventure;Action & Adventure : 3\n",
      "Video Players & Editors;Music & Video : 2\n",
      "Sports;Action & Adventure : 2\n",
      "Simulation;Pretend Play : 2\n",
      "Puzzle;Creativity : 2\n",
      "Music;Music & Video : 2\n",
      "Entertainment;Pretend Play : 2\n",
      "Casual;Education : 2\n",
      "Board;Action & Adventure : 2\n",
      "Video Players & Editors;Creativity : 1\n",
      "Trivia;Education : 1\n",
      "Travel & Local;Action & Adventure : 1\n",
      "Tools;Education : 1\n",
      "Strategy;Education : 1\n",
      "Strategy;Creativity : 1\n",
      "Strategy;Action & Adventure : 1\n",
      "Simulation;Education : 1\n",
      "Role Playing;Brain Games : 1\n",
      "Racing;Pretend Play : 1\n",
      "Puzzle;Education : 1\n",
      "Parenting;Brain Games : 1\n",
      "Music & Audio;Music & Video : 1\n",
      "Lifestyle;Pretend Play : 1\n",
      "Lifestyle;Education : 1\n",
      "Health & Fitness;Education : 1\n",
      "Health & Fitness;Action & Adventure : 1\n",
      "Entertainment;Education : 1\n",
      "Communication;Creativity : 1\n",
      "Comics;Creativity : 1\n",
      "Casual;Music & Video : 1\n",
      "Card;Action & Adventure : 1\n",
      "Books & Reference;Education : 1\n",
      "Art & Design;Pretend Play : 1\n",
      "Art & Design;Action & Adventure : 1\n",
      "Arcade;Pretend Play : 1\n",
      "Adventure;Education : 1\n"
     ]
    }
   ],
   "source": [
    "# Google genre frequency table\n",
    "display_table(google_free, 9)"
   ]
  },
  {
   "cell_type": "markdown",
   "metadata": {},
   "source": [
    "Analyze the frequency table you generated for the prime_genre column of the App Store data set.  \n",
    "\n",
    "** What is the most common genre? What is the runner-up?  **  \n",
    " Games : 1872      \n",
    "      \n",
    "** What other patterns do you see?  **  \n",
    " Top 5: Entertainment, Photo & Video, Education and Social Networking  \n",
    " Public should be younger (kids, teenagers) using the apps for entertainment.\n",
    "        \n",
    "** What is the general impression — are most of the apps designed for practical purposes (education, shopping, utilities, productivity, lifestyle) or more for entertainment (games, photo and video, social networking, sports, music)?  **  \n",
    " Most apps are for Entertainement.\n",
    "      \n",
    "** Can you recommend an app profile for the App Store market based on this frequency table alone? If there's a large number of apps for a particular genre, does that also imply that apps of that genre generally have a large number of users? **  \n",
    " Game apps has an high number of users, I would recommend Fruit Ninja, Clear Vision and Minecraft, they have above 5 millions of rate reviews.   "
   ]
  },
  {
   "cell_type": "markdown",
   "metadata": {},
   "source": [
    "Analyze the frequency table you generated for the Category and Genres column of the Google Play data set.\n",
    "\n",
    "** What are the most common genres? **  \n",
    "Genre (Tools: 749) and Category (Family: 1675)\n",
    "\n",
    "**What other patterns do you see?**  \n",
    "Public seems to be older (adults), using phone for daily activities.\n",
    "Tools : 749, Entertainment : 538, Education : 474, Business : 407, Productivity : 345\n",
    "\n",
    "**Compare the patterns you see for the Google Play market with those you saw for the App Store market.** \n",
    "Seems that Apple store users are younger and use apps for entertainment while Google Play users are adults using phone to day by day tasks and family.\n",
    "\n",
    "**Can you recommend an app profile based on what you found so far? Do the frequency tables you generated reveal the most frequent app genres or what genres have the most users?**  \n",
    "Social media apps have most users (Facebook, whatsapp, Instagram). But I would recommend the game apps: Clash of Clans, Subway Surfer and Candy Crush game apps."
   ]
  },
  {
   "cell_type": "markdown",
   "metadata": {
    "collapsed": true
   },
   "source": [
    "** Popular Apps by Genre** "
   ]
  },
  {
   "cell_type": "code",
   "execution_count": 42,
   "metadata": {
    "collapsed": false
   },
   "outputs": [],
   "source": [
    "f_apple_pgenre = freq_table(apple_free, 11)\n"
   ]
  },
  {
   "cell_type": "code",
   "execution_count": 48,
   "metadata": {
    "collapsed": false
   },
   "outputs": [
    {
     "name": "stdout",
     "output_type": "stream",
     "text": [
      "Health & Fitness : 23298\n",
      "Medical : 612\n",
      "News : 21248\n",
      "Social Networking : 71548\n",
      "Shopping : 26920\n",
      "Catalogs : 4004\n",
      "Entertainment : 14030\n",
      "Sports : 23009\n",
      "Education : 7004\n",
      "Reference : 74942\n",
      "Business : 7491\n",
      "Photo & Video : 28442\n",
      "Music : 57327\n",
      "Utilities : 18684\n",
      "Book : 39758\n",
      "Food & Drink : 33334\n",
      "Weather : 52280\n",
      "Games : 22813\n",
      "Travel : 28244\n",
      "Navigation : 86090\n",
      "Finance : 31468\n",
      "Lifestyle : 16486\n",
      "Productivity : 21028\n"
     ]
    }
   ],
   "source": [
    "# Cheking for Apple genres\n",
    "for genre in f_apple_pgenre:\n",
    "    total = 0\n",
    "    len_genre = 0\n",
    "    for row in apple_free:\n",
    "        genre_app = row[11]\n",
    "        if genre_app == genre:\n",
    "            total += float(row[5]) # user reviews\n",
    "            len_genre += 1\n",
    "    avg_user_rating = round(total / len_genre)\n",
    "    print(genre, ':', avg_user_rating)\n",
    "    "
   ]
  },
  {
   "cell_type": "markdown",
   "metadata": {},
   "source": [
    "Checking the average number of ratings for Apple Store, seems like Navigation is the prime genre with most user ratings: Navigation : 86.090\n",
    "Most popular by orderd: Waze, Google Maps and Geocaching. "
   ]
  },
  {
   "cell_type": "code",
   "execution_count": 51,
   "metadata": {
    "collapsed": false
   },
   "outputs": [
    {
     "name": "stdout",
     "output_type": "stream",
     "text": [
      "WEATHER : 171251\n",
      "COMMUNICATION : 995608\n",
      "SPORTS : 116939\n",
      "FINANCE : 38536\n",
      "AUTO_AND_VEHICLES : 14140\n",
      "PRODUCTIVITY : 160635\n",
      "VIDEO_PLAYERS : 425350\n",
      "SOCIAL : 965831\n",
      "ART_AND_DESIGN : 24699\n",
      "BUSINESS : 24240\n",
      "PARENTING : 16379\n",
      "LIBRARIES_AND_DEMO : 10926\n",
      "PERSONALIZATION : 181122\n",
      "BOOKS_AND_REFERENCE : 87995\n",
      "SHOPPING : 223887\n",
      "NEWS_AND_MAGAZINES : 93088\n",
      "TOOLS : 305733\n",
      "FOOD_AND_DRINK : 57479\n",
      "PHOTOGRAPHY : 404081\n",
      "MAPS_AND_NAVIGATION : 142860\n",
      "FAMILY : 113211\n",
      "TRAVEL_AND_LOCAL : 129484\n",
      "HOUSE_AND_HOME : 26435\n",
      "EDUCATION : 56293\n",
      "DATING : 21953\n",
      "ENTERTAINMENT : 301752\n",
      "BEAUTY : 7476\n",
      "HEALTH_AND_FITNESS : 78095\n",
      "GAME : 683524\n",
      "COMICS : 42586\n",
      "LIFESTYLE : 33922\n",
      "MEDICAL : 3730\n",
      "EVENTS : 2556\n"
     ]
    }
   ],
   "source": [
    "# Checking average user rating for category in Google Play:\n",
    "f_google_category = freq_table(google_free, 1)\n",
    "\n",
    "for category in f_google_pgenre:\n",
    "    total = 0\n",
    "    len_category = 0\n",
    "    for row in google_free:\n",
    "        category_app = row[1]\n",
    "        if category_app == category:\n",
    "            total += float(row[3]) # reviews\n",
    "            len_category += 1\n",
    "    avg_user_rating = round(total / len_category)\n",
    "    print(category, ':', avg_user_rating)"
   ]
  },
  {
   "cell_type": "markdown",
   "metadata": {},
   "source": [
    "Checking the average number of ratings for Google Play per category, seems like Coomunication is the category with most user reviews: COMMUNICATION : 995.608\n",
    "Whatsapp is the most popular communication app, followed by Messenger and then UC Browser and BBM Free Calls. I would recommend UC and BBC, since whataspp and messenger are already known.\n"
   ]
  },
  {
   "cell_type": "code",
   "execution_count": 52,
   "metadata": {
    "collapsed": false
   },
   "outputs": [
    {
     "name": "stdout",
     "output_type": "stream",
     "text": [
      "WEATHER : 5074486\n",
      "COMMUNICATION : 38456119\n",
      "SPORTS : 3638640\n",
      "FINANCE : 1387692\n",
      "AUTO_AND_VEHICLES : 647318\n",
      "PRODUCTIVITY : 16787331\n",
      "VIDEO_PLAYERS : 24727872\n",
      "SOCIAL : 23253652\n",
      "ART_AND_DESIGN : 1986335\n",
      "BUSINESS : 1712290\n",
      "PARENTING : 542604\n",
      "LIBRARIES_AND_DEMO : 638504\n",
      "PERSONALIZATION : 5201483\n",
      "BOOKS_AND_REFERENCE : 8767812\n",
      "SHOPPING : 7036877\n",
      "NEWS_AND_MAGAZINES : 9549178\n",
      "TOOLS : 10801391\n",
      "FOOD_AND_DRINK : 1924898\n",
      "PHOTOGRAPHY : 17840110\n",
      "MAPS_AND_NAVIGATION : 4056942\n",
      "FAMILY : 3697848\n",
      "TRAVEL_AND_LOCAL : 13984078\n",
      "HOUSE_AND_HOME : 1331541\n",
      "EDUCATION : 1833495\n",
      "DATING : 854029\n",
      "ENTERTAINMENT : 11640706\n",
      "BEAUTY : 513152\n",
      "HEALTH_AND_FITNESS : 4188822\n",
      "GAME : 15588016\n",
      "COMICS : 817657\n",
      "LIFESTYLE : 1437816\n",
      "MEDICAL : 120551\n",
      "EVENTS : 253542\n"
     ]
    }
   ],
   "source": [
    "# Checking average INSTALLS for category in Google Play:\n",
    "f_google_category = freq_table(google_free, 1)\n",
    "\n",
    "for category in f_google_pgenre:\n",
    "    total = 0\n",
    "    len_category = 0\n",
    "    for row in google_free:\n",
    "        category_app = row[1]\n",
    "        if category_app == category:\n",
    "            installs = row[5]\n",
    "            installs = installs.replace('+', '')\n",
    "            installs = installs.replace(',', '')\n",
    "            total += float(installs)\n",
    "            len_category += 1\n",
    "    avg_installs = round(total / len_category)\n",
    "    print(category, ':', avg_installs)"
   ]
  },
  {
   "cell_type": "markdown",
   "metadata": {
    "collapsed": true
   },
   "source": [
    "Communication is the most popular genre, with more installs on google (38.456.119 installs)."
   ]
  },
  {
   "cell_type": "markdown",
   "metadata": {
    "collapsed": true
   },
   "source": [
    "Considering both Apple and Google, the Communication / Social apps seems to be the most popular in both platforms, according to user ratings and also considering numbers of general users.\n",
    "The most popular apps for this category are WhatsApp and Messenger."
   ]
  }
 ],
 "metadata": {
  "kernelspec": {
   "display_name": "Python 3",
   "language": "python",
   "name": "python3"
  },
  "language_info": {
   "codemirror_mode": {
    "name": "ipython",
    "version": 3
   },
   "file_extension": ".py",
   "mimetype": "text/x-python",
   "name": "python",
   "nbconvert_exporter": "python",
   "pygments_lexer": "ipython3",
   "version": "3.4.3"
  }
 },
 "nbformat": 4,
 "nbformat_minor": 2
}
